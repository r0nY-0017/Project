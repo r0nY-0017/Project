{
 "cells": [
  {
   "cell_type": "markdown",
   "metadata": {
    "id": "CazISR8X_HUG"
   },
   "source": [
    "# Multiple Linear Regression"
   ]
  },
  {
   "cell_type": "markdown",
   "metadata": {
    "id": "pOyqYHTk_Q57"
   },
   "source": [
    "## Importing the libraries"
   ]
  },
  {
   "cell_type": "code",
   "execution_count": null,
   "metadata": {
    "id": "T_YHJjnD_Tja"
   },
   "outputs": [],
   "source": [
    "import numpy as np\n",
    "import matplotlib.pyplot as plt\n",
    "import pandas as pd"
   ]
  },
  {
   "cell_type": "markdown",
   "metadata": {
    "id": "vgC61-ah_WIz"
   },
   "source": [
    "## Importing the dataset"
   ]
  },
  {
   "cell_type": "code",
   "execution_count": null,
   "metadata": {
    "colab": {
     "base_uri": "https://localhost:8080/",
     "height": 73
    },
    "executionInfo": {
     "elapsed": 7141,
     "status": "ok",
     "timestamp": 1709972279049,
     "user": {
      "displayName": "MD. AYNUL HASAN NAHID",
      "userId": "09123225713808729213"
     },
     "user_tz": -360
    },
    "id": "UrxyEKGn_ez7",
    "outputId": "8990a0a2-8e55-4d9d-d63b-8f2e4c5352c7"
   },
   "outputs": [
    {
     "data": {
      "text/html": [
       "\n",
       "     <input type=\"file\" id=\"files-00787673-2389-4af2-9271-73c97e681850\" name=\"files[]\" multiple disabled\n",
       "        style=\"border:none\" />\n",
       "     <output id=\"result-00787673-2389-4af2-9271-73c97e681850\">\n",
       "      Upload widget is only available when the cell has been executed in the\n",
       "      current browser session. Please rerun this cell to enable.\n",
       "      </output>\n",
       "      <script>// Copyright 2017 Google LLC\n",
       "//\n",
       "// Licensed under the Apache License, Version 2.0 (the \"License\");\n",
       "// you may not use this file except in compliance with the License.\n",
       "// You may obtain a copy of the License at\n",
       "//\n",
       "//      http://www.apache.org/licenses/LICENSE-2.0\n",
       "//\n",
       "// Unless required by applicable law or agreed to in writing, software\n",
       "// distributed under the License is distributed on an \"AS IS\" BASIS,\n",
       "// WITHOUT WARRANTIES OR CONDITIONS OF ANY KIND, either express or implied.\n",
       "// See the License for the specific language governing permissions and\n",
       "// limitations under the License.\n",
       "\n",
       "/**\n",
       " * @fileoverview Helpers for google.colab Python module.\n",
       " */\n",
       "(function(scope) {\n",
       "function span(text, styleAttributes = {}) {\n",
       "  const element = document.createElement('span');\n",
       "  element.textContent = text;\n",
       "  for (const key of Object.keys(styleAttributes)) {\n",
       "    element.style[key] = styleAttributes[key];\n",
       "  }\n",
       "  return element;\n",
       "}\n",
       "\n",
       "// Max number of bytes which will be uploaded at a time.\n",
       "const MAX_PAYLOAD_SIZE = 100 * 1024;\n",
       "\n",
       "function _uploadFiles(inputId, outputId) {\n",
       "  const steps = uploadFilesStep(inputId, outputId);\n",
       "  const outputElement = document.getElementById(outputId);\n",
       "  // Cache steps on the outputElement to make it available for the next call\n",
       "  // to uploadFilesContinue from Python.\n",
       "  outputElement.steps = steps;\n",
       "\n",
       "  return _uploadFilesContinue(outputId);\n",
       "}\n",
       "\n",
       "// This is roughly an async generator (not supported in the browser yet),\n",
       "// where there are multiple asynchronous steps and the Python side is going\n",
       "// to poll for completion of each step.\n",
       "// This uses a Promise to block the python side on completion of each step,\n",
       "// then passes the result of the previous step as the input to the next step.\n",
       "function _uploadFilesContinue(outputId) {\n",
       "  const outputElement = document.getElementById(outputId);\n",
       "  const steps = outputElement.steps;\n",
       "\n",
       "  const next = steps.next(outputElement.lastPromiseValue);\n",
       "  return Promise.resolve(next.value.promise).then((value) => {\n",
       "    // Cache the last promise value to make it available to the next\n",
       "    // step of the generator.\n",
       "    outputElement.lastPromiseValue = value;\n",
       "    return next.value.response;\n",
       "  });\n",
       "}\n",
       "\n",
       "/**\n",
       " * Generator function which is called between each async step of the upload\n",
       " * process.\n",
       " * @param {string} inputId Element ID of the input file picker element.\n",
       " * @param {string} outputId Element ID of the output display.\n",
       " * @return {!Iterable<!Object>} Iterable of next steps.\n",
       " */\n",
       "function* uploadFilesStep(inputId, outputId) {\n",
       "  const inputElement = document.getElementById(inputId);\n",
       "  inputElement.disabled = false;\n",
       "\n",
       "  const outputElement = document.getElementById(outputId);\n",
       "  outputElement.innerHTML = '';\n",
       "\n",
       "  const pickedPromise = new Promise((resolve) => {\n",
       "    inputElement.addEventListener('change', (e) => {\n",
       "      resolve(e.target.files);\n",
       "    });\n",
       "  });\n",
       "\n",
       "  const cancel = document.createElement('button');\n",
       "  inputElement.parentElement.appendChild(cancel);\n",
       "  cancel.textContent = 'Cancel upload';\n",
       "  const cancelPromise = new Promise((resolve) => {\n",
       "    cancel.onclick = () => {\n",
       "      resolve(null);\n",
       "    };\n",
       "  });\n",
       "\n",
       "  // Wait for the user to pick the files.\n",
       "  const files = yield {\n",
       "    promise: Promise.race([pickedPromise, cancelPromise]),\n",
       "    response: {\n",
       "      action: 'starting',\n",
       "    }\n",
       "  };\n",
       "\n",
       "  cancel.remove();\n",
       "\n",
       "  // Disable the input element since further picks are not allowed.\n",
       "  inputElement.disabled = true;\n",
       "\n",
       "  if (!files) {\n",
       "    return {\n",
       "      response: {\n",
       "        action: 'complete',\n",
       "      }\n",
       "    };\n",
       "  }\n",
       "\n",
       "  for (const file of files) {\n",
       "    const li = document.createElement('li');\n",
       "    li.append(span(file.name, {fontWeight: 'bold'}));\n",
       "    li.append(span(\n",
       "        `(${file.type || 'n/a'}) - ${file.size} bytes, ` +\n",
       "        `last modified: ${\n",
       "            file.lastModifiedDate ? file.lastModifiedDate.toLocaleDateString() :\n",
       "                                    'n/a'} - `));\n",
       "    const percent = span('0% done');\n",
       "    li.appendChild(percent);\n",
       "\n",
       "    outputElement.appendChild(li);\n",
       "\n",
       "    const fileDataPromise = new Promise((resolve) => {\n",
       "      const reader = new FileReader();\n",
       "      reader.onload = (e) => {\n",
       "        resolve(e.target.result);\n",
       "      };\n",
       "      reader.readAsArrayBuffer(file);\n",
       "    });\n",
       "    // Wait for the data to be ready.\n",
       "    let fileData = yield {\n",
       "      promise: fileDataPromise,\n",
       "      response: {\n",
       "        action: 'continue',\n",
       "      }\n",
       "    };\n",
       "\n",
       "    // Use a chunked sending to avoid message size limits. See b/62115660.\n",
       "    let position = 0;\n",
       "    do {\n",
       "      const length = Math.min(fileData.byteLength - position, MAX_PAYLOAD_SIZE);\n",
       "      const chunk = new Uint8Array(fileData, position, length);\n",
       "      position += length;\n",
       "\n",
       "      const base64 = btoa(String.fromCharCode.apply(null, chunk));\n",
       "      yield {\n",
       "        response: {\n",
       "          action: 'append',\n",
       "          file: file.name,\n",
       "          data: base64,\n",
       "        },\n",
       "      };\n",
       "\n",
       "      let percentDone = fileData.byteLength === 0 ?\n",
       "          100 :\n",
       "          Math.round((position / fileData.byteLength) * 100);\n",
       "      percent.textContent = `${percentDone}% done`;\n",
       "\n",
       "    } while (position < fileData.byteLength);\n",
       "  }\n",
       "\n",
       "  // All done.\n",
       "  yield {\n",
       "    response: {\n",
       "      action: 'complete',\n",
       "    }\n",
       "  };\n",
       "}\n",
       "\n",
       "scope.google = scope.google || {};\n",
       "scope.google.colab = scope.google.colab || {};\n",
       "scope.google.colab._files = {\n",
       "  _uploadFiles,\n",
       "  _uploadFilesContinue,\n",
       "};\n",
       "})(self);\n",
       "</script> "
      ],
      "text/plain": [
       "<IPython.core.display.HTML object>"
      ]
     },
     "metadata": {},
     "output_type": "display_data"
    },
    {
     "name": "stdout",
     "output_type": "stream",
     "text": [
      "Saving 50_Startups.csv to 50_Startups (2).csv\n"
     ]
    }
   ],
   "source": [
    "from google.colab import files\n",
    "uploaded = files.upload()\n",
    "dataset = pd.read_csv('50_Startups.csv')\n",
    "X = dataset.iloc[:, :-1].values\n",
    "y = dataset.iloc[:, -1].values"
   ]
  },
  {
   "cell_type": "code",
   "execution_count": null,
   "metadata": {
    "colab": {
     "base_uri": "https://localhost:8080/"
    },
    "executionInfo": {
     "elapsed": 339,
     "status": "ok",
     "timestamp": 1709972324231,
     "user": {
      "displayName": "MD. AYNUL HASAN NAHID",
      "userId": "09123225713808729213"
     },
     "user_tz": -360
    },
    "id": "GOB3QhV9B5kD",
    "outputId": "71c0e722-221d-4d30-beeb-c30a103dc1f2"
   },
   "outputs": [
    {
     "name": "stdout",
     "output_type": "stream",
     "text": [
      "[[165349.2 136897.8 471784.1 'New York']\n",
      " [162597.7 151377.59 443898.53 'California']\n",
      " [153441.51 101145.55 407934.54 'Florida']\n",
      " [144372.41 118671.85 383199.62 'New York']\n",
      " [142107.34 91391.77 366168.42 'Florida']\n",
      " [131876.9 99814.71 362861.36 'New York']\n",
      " [134615.46 147198.87 127716.82 'California']\n",
      " [130298.13 145530.06 323876.68 'Florida']\n",
      " [120542.52 148718.95 311613.29 'New York']\n",
      " [123334.88 108679.17 304981.62 'California']\n",
      " [101913.08 110594.11 229160.95 'Florida']\n",
      " [100671.96 91790.61 249744.55 'California']\n",
      " [93863.75 127320.38 249839.44 'Florida']\n",
      " [91992.39 135495.07 252664.93 'California']\n",
      " [119943.24 156547.42 256512.92 'Florida']\n",
      " [114523.61 122616.84 261776.23 'New York']\n",
      " [78013.11 121597.55 264346.06 'California']\n",
      " [94657.16 145077.58 282574.31 'New York']\n",
      " [91749.16 114175.79 294919.57 'Florida']\n",
      " [86419.7 153514.11 0.0 'New York']\n",
      " [76253.86 113867.3 298664.47 'California']\n",
      " [78389.47 153773.43 299737.29 'New York']\n",
      " [73994.56 122782.75 303319.26 'Florida']\n",
      " [67532.53 105751.03 304768.73 'Florida']\n",
      " [77044.01 99281.34 140574.81 'New York']\n",
      " [64664.71 139553.16 137962.62 'California']\n",
      " [75328.87 144135.98 134050.07 'Florida']\n",
      " [72107.6 127864.55 353183.81 'New York']\n",
      " [66051.52 182645.56 118148.2 'Florida']\n",
      " [65605.48 153032.06 107138.38 'New York']\n",
      " [61994.48 115641.28 91131.24 'Florida']\n",
      " [61136.38 152701.92 88218.23 'New York']\n",
      " [63408.86 129219.61 46085.25 'California']\n",
      " [55493.95 103057.49 214634.81 'Florida']\n",
      " [46426.07 157693.92 210797.67 'California']\n",
      " [46014.02 85047.44 205517.64 'New York']\n",
      " [28663.76 127056.21 201126.82 'Florida']\n",
      " [44069.95 51283.14 197029.42 'California']\n",
      " [20229.59 65947.93 185265.1 'New York']\n",
      " [38558.51 82982.09 174999.3 'California']\n",
      " [28754.33 118546.05 172795.67 'California']\n",
      " [27892.92 84710.77 164470.71 'Florida']\n",
      " [23640.93 96189.63 148001.11 'California']\n",
      " [15505.73 127382.3 35534.17 'New York']\n",
      " [22177.74 154806.14 28334.72 'California']\n",
      " [1000.23 124153.04 1903.93 'New York']\n",
      " [1315.46 115816.21 297114.46 'Florida']\n",
      " [0.0 135426.92 0.0 'California']\n",
      " [542.05 51743.15 0.0 'New York']\n",
      " [0.0 116983.8 45173.06 'California']]\n"
     ]
    }
   ],
   "source": [
    "print(X)"
   ]
  },
  {
   "cell_type": "markdown",
   "metadata": {
    "id": "VadrvE7s_lS9"
   },
   "source": [
    "## Encoding categorical data"
   ]
  },
  {
   "cell_type": "code",
   "execution_count": null,
   "metadata": {
    "id": "wV3fD1mbAvsh"
   },
   "outputs": [],
   "source": [
    "from sklearn.compose import ColumnTransformer\n",
    "from sklearn.preprocessing import OneHotEncoder\n",
    "ct = ColumnTransformer(transformers=[('encoder', OneHotEncoder(), [3])], remainder='passthrough')\n",
    "X = np.array(ct.fit_transform(X))"
   ]
  },
  {
   "cell_type": "code",
   "execution_count": null,
   "metadata": {
    "colab": {
     "base_uri": "https://localhost:8080/"
    },
    "executionInfo": {
     "elapsed": 338,
     "status": "ok",
     "timestamp": 1709972368047,
     "user": {
      "displayName": "MD. AYNUL HASAN NAHID",
      "userId": "09123225713808729213"
     },
     "user_tz": -360
    },
    "id": "4ym3HdYeCGYG",
    "outputId": "a8ff5598-3cf6-48b1-c029-9b9c63778c68"
   },
   "outputs": [
    {
     "name": "stdout",
     "output_type": "stream",
     "text": [
      "[[0.0 0.0 1.0 165349.2 136897.8 471784.1]\n",
      " [1.0 0.0 0.0 162597.7 151377.59 443898.53]\n",
      " [0.0 1.0 0.0 153441.51 101145.55 407934.54]\n",
      " [0.0 0.0 1.0 144372.41 118671.85 383199.62]\n",
      " [0.0 1.0 0.0 142107.34 91391.77 366168.42]\n",
      " [0.0 0.0 1.0 131876.9 99814.71 362861.36]\n",
      " [1.0 0.0 0.0 134615.46 147198.87 127716.82]\n",
      " [0.0 1.0 0.0 130298.13 145530.06 323876.68]\n",
      " [0.0 0.0 1.0 120542.52 148718.95 311613.29]\n",
      " [1.0 0.0 0.0 123334.88 108679.17 304981.62]\n",
      " [0.0 1.0 0.0 101913.08 110594.11 229160.95]\n",
      " [1.0 0.0 0.0 100671.96 91790.61 249744.55]\n",
      " [0.0 1.0 0.0 93863.75 127320.38 249839.44]\n",
      " [1.0 0.0 0.0 91992.39 135495.07 252664.93]\n",
      " [0.0 1.0 0.0 119943.24 156547.42 256512.92]\n",
      " [0.0 0.0 1.0 114523.61 122616.84 261776.23]\n",
      " [1.0 0.0 0.0 78013.11 121597.55 264346.06]\n",
      " [0.0 0.0 1.0 94657.16 145077.58 282574.31]\n",
      " [0.0 1.0 0.0 91749.16 114175.79 294919.57]\n",
      " [0.0 0.0 1.0 86419.7 153514.11 0.0]\n",
      " [1.0 0.0 0.0 76253.86 113867.3 298664.47]\n",
      " [0.0 0.0 1.0 78389.47 153773.43 299737.29]\n",
      " [0.0 1.0 0.0 73994.56 122782.75 303319.26]\n",
      " [0.0 1.0 0.0 67532.53 105751.03 304768.73]\n",
      " [0.0 0.0 1.0 77044.01 99281.34 140574.81]\n",
      " [1.0 0.0 0.0 64664.71 139553.16 137962.62]\n",
      " [0.0 1.0 0.0 75328.87 144135.98 134050.07]\n",
      " [0.0 0.0 1.0 72107.6 127864.55 353183.81]\n",
      " [0.0 1.0 0.0 66051.52 182645.56 118148.2]\n",
      " [0.0 0.0 1.0 65605.48 153032.06 107138.38]\n",
      " [0.0 1.0 0.0 61994.48 115641.28 91131.24]\n",
      " [0.0 0.0 1.0 61136.38 152701.92 88218.23]\n",
      " [1.0 0.0 0.0 63408.86 129219.61 46085.25]\n",
      " [0.0 1.0 0.0 55493.95 103057.49 214634.81]\n",
      " [1.0 0.0 0.0 46426.07 157693.92 210797.67]\n",
      " [0.0 0.0 1.0 46014.02 85047.44 205517.64]\n",
      " [0.0 1.0 0.0 28663.76 127056.21 201126.82]\n",
      " [1.0 0.0 0.0 44069.95 51283.14 197029.42]\n",
      " [0.0 0.0 1.0 20229.59 65947.93 185265.1]\n",
      " [1.0 0.0 0.0 38558.51 82982.09 174999.3]\n",
      " [1.0 0.0 0.0 28754.33 118546.05 172795.67]\n",
      " [0.0 1.0 0.0 27892.92 84710.77 164470.71]\n",
      " [1.0 0.0 0.0 23640.93 96189.63 148001.11]\n",
      " [0.0 0.0 1.0 15505.73 127382.3 35534.17]\n",
      " [1.0 0.0 0.0 22177.74 154806.14 28334.72]\n",
      " [0.0 0.0 1.0 1000.23 124153.04 1903.93]\n",
      " [0.0 1.0 0.0 1315.46 115816.21 297114.46]\n",
      " [1.0 0.0 0.0 0.0 135426.92 0.0]\n",
      " [0.0 0.0 1.0 542.05 51743.15 0.0]\n",
      " [1.0 0.0 0.0 0.0 116983.8 45173.06]]\n"
     ]
    }
   ],
   "source": [
    "print(X)"
   ]
  },
  {
   "cell_type": "markdown",
   "metadata": {
    "id": "WemVnqgeA70k"
   },
   "source": [
    "## Splitting the dataset into the Training set and Test set"
   ]
  },
  {
   "cell_type": "code",
   "execution_count": null,
   "metadata": {
    "id": "Kb_v_ae-A-20"
   },
   "outputs": [],
   "source": [
    "from sklearn.model_selection import train_test_split\n",
    "X_train, X_test, y_train, y_test = train_test_split(X, y, test_size = 0.2, random_state = 0)"
   ]
  },
  {
   "cell_type": "markdown",
   "metadata": {
    "id": "k-McZVsQBINc"
   },
   "source": [
    "## Training the Multiple Linear Regression model on the Training set"
   ]
  },
  {
   "cell_type": "code",
   "execution_count": null,
   "metadata": {
    "colab": {
     "base_uri": "https://localhost:8080/",
     "height": 74
    },
    "executionInfo": {
     "elapsed": 343,
     "status": "ok",
     "timestamp": 1709972467259,
     "user": {
      "displayName": "MD. AYNUL HASAN NAHID",
      "userId": "09123225713808729213"
     },
     "user_tz": -360
    },
    "id": "ywPjx0L1BMiD",
    "outputId": "739328c4-a44e-4dca-f2d3-cf0dbe5bc358"
   },
   "outputs": [
    {
     "data": {
      "text/html": [
       "<style>#sk-container-id-3 {color: black;background-color: white;}#sk-container-id-3 pre{padding: 0;}#sk-container-id-3 div.sk-toggleable {background-color: white;}#sk-container-id-3 label.sk-toggleable__label {cursor: pointer;display: block;width: 100%;margin-bottom: 0;padding: 0.3em;box-sizing: border-box;text-align: center;}#sk-container-id-3 label.sk-toggleable__label-arrow:before {content: \"▸\";float: left;margin-right: 0.25em;color: #696969;}#sk-container-id-3 label.sk-toggleable__label-arrow:hover:before {color: black;}#sk-container-id-3 div.sk-estimator:hover label.sk-toggleable__label-arrow:before {color: black;}#sk-container-id-3 div.sk-toggleable__content {max-height: 0;max-width: 0;overflow: hidden;text-align: left;background-color: #f0f8ff;}#sk-container-id-3 div.sk-toggleable__content pre {margin: 0.2em;color: black;border-radius: 0.25em;background-color: #f0f8ff;}#sk-container-id-3 input.sk-toggleable__control:checked~div.sk-toggleable__content {max-height: 200px;max-width: 100%;overflow: auto;}#sk-container-id-3 input.sk-toggleable__control:checked~label.sk-toggleable__label-arrow:before {content: \"▾\";}#sk-container-id-3 div.sk-estimator input.sk-toggleable__control:checked~label.sk-toggleable__label {background-color: #d4ebff;}#sk-container-id-3 div.sk-label input.sk-toggleable__control:checked~label.sk-toggleable__label {background-color: #d4ebff;}#sk-container-id-3 input.sk-hidden--visually {border: 0;clip: rect(1px 1px 1px 1px);clip: rect(1px, 1px, 1px, 1px);height: 1px;margin: -1px;overflow: hidden;padding: 0;position: absolute;width: 1px;}#sk-container-id-3 div.sk-estimator {font-family: monospace;background-color: #f0f8ff;border: 1px dotted black;border-radius: 0.25em;box-sizing: border-box;margin-bottom: 0.5em;}#sk-container-id-3 div.sk-estimator:hover {background-color: #d4ebff;}#sk-container-id-3 div.sk-parallel-item::after {content: \"\";width: 100%;border-bottom: 1px solid gray;flex-grow: 1;}#sk-container-id-3 div.sk-label:hover label.sk-toggleable__label {background-color: #d4ebff;}#sk-container-id-3 div.sk-serial::before {content: \"\";position: absolute;border-left: 1px solid gray;box-sizing: border-box;top: 0;bottom: 0;left: 50%;z-index: 0;}#sk-container-id-3 div.sk-serial {display: flex;flex-direction: column;align-items: center;background-color: white;padding-right: 0.2em;padding-left: 0.2em;position: relative;}#sk-container-id-3 div.sk-item {position: relative;z-index: 1;}#sk-container-id-3 div.sk-parallel {display: flex;align-items: stretch;justify-content: center;background-color: white;position: relative;}#sk-container-id-3 div.sk-item::before, #sk-container-id-3 div.sk-parallel-item::before {content: \"\";position: absolute;border-left: 1px solid gray;box-sizing: border-box;top: 0;bottom: 0;left: 50%;z-index: -1;}#sk-container-id-3 div.sk-parallel-item {display: flex;flex-direction: column;z-index: 1;position: relative;background-color: white;}#sk-container-id-3 div.sk-parallel-item:first-child::after {align-self: flex-end;width: 50%;}#sk-container-id-3 div.sk-parallel-item:last-child::after {align-self: flex-start;width: 50%;}#sk-container-id-3 div.sk-parallel-item:only-child::after {width: 0;}#sk-container-id-3 div.sk-dashed-wrapped {border: 1px dashed gray;margin: 0 0.4em 0.5em 0.4em;box-sizing: border-box;padding-bottom: 0.4em;background-color: white;}#sk-container-id-3 div.sk-label label {font-family: monospace;font-weight: bold;display: inline-block;line-height: 1.2em;}#sk-container-id-3 div.sk-label-container {text-align: center;}#sk-container-id-3 div.sk-container {/* jupyter's `normalize.less` sets `[hidden] { display: none; }` but bootstrap.min.css set `[hidden] { display: none !important; }` so we also need the `!important` here to be able to override the default hidden behavior on the sphinx rendered scikit-learn.org. See: https://github.com/scikit-learn/scikit-learn/issues/21755 */display: inline-block !important;position: relative;}#sk-container-id-3 div.sk-text-repr-fallback {display: none;}</style><div id=\"sk-container-id-3\" class=\"sk-top-container\"><div class=\"sk-text-repr-fallback\"><pre>LinearRegression()</pre><b>In a Jupyter environment, please rerun this cell to show the HTML representation or trust the notebook. <br />On GitHub, the HTML representation is unable to render, please try loading this page with nbviewer.org.</b></div><div class=\"sk-container\" hidden><div class=\"sk-item\"><div class=\"sk-estimator sk-toggleable\"><input class=\"sk-toggleable__control sk-hidden--visually\" id=\"sk-estimator-id-3\" type=\"checkbox\" checked><label for=\"sk-estimator-id-3\" class=\"sk-toggleable__label sk-toggleable__label-arrow\">LinearRegression</label><div class=\"sk-toggleable__content\"><pre>LinearRegression()</pre></div></div></div></div></div>"
      ],
      "text/plain": [
       "LinearRegression()"
      ]
     },
     "execution_count": 63,
     "metadata": {},
     "output_type": "execute_result"
    }
   ],
   "source": [
    "from sklearn.linear_model import LinearRegression\n",
    "regressor = LinearRegression()\n",
    "regressor.fit(X_train, y_train)"
   ]
  },
  {
   "cell_type": "markdown",
   "metadata": {
    "id": "xNkXL1YQBiBT"
   },
   "source": [
    "## Predicting the Test set results"
   ]
  },
  {
   "cell_type": "code",
   "execution_count": null,
   "metadata": {
    "colab": {
     "base_uri": "https://localhost:8080/"
    },
    "executionInfo": {
     "elapsed": 322,
     "status": "ok",
     "timestamp": 1709972478639,
     "user": {
      "displayName": "MD. AYNUL HASAN NAHID",
      "userId": "09123225713808729213"
     },
     "user_tz": -360
    },
    "id": "TQKmwvtdBkyb",
    "outputId": "8e0d9259-1e45-4754-d9f9-43d073442501"
   },
   "outputs": [
    {
     "name": "stdout",
     "output_type": "stream",
     "text": [
      "[[103015.2  103282.38]\n",
      " [132582.28 144259.4 ]\n",
      " [132447.74 146121.95]\n",
      " [ 71976.1   77798.83]\n",
      " [178537.48 191050.39]\n",
      " [116161.24 105008.31]\n",
      " [ 67851.69  81229.06]\n",
      " [ 98791.73  97483.56]\n",
      " [113969.44 110352.25]\n",
      " [167921.07 166187.94]]\n"
     ]
    }
   ],
   "source": [
    "y_pred = regressor.predict(X_test)\n",
    "np.set_printoptions(precision=2)\n",
    "print(np.concatenate((y_pred.reshape(len(y_pred),1), y_test.reshape(len(y_test),1)),1))"
   ]
  },
  {
   "cell_type": "markdown",
   "metadata": {
    "id": "iFFysdz3fP-0"
   },
   "source": [
    "## Building the optimal model using Backward Elimination"
   ]
  },
  {
   "cell_type": "code",
   "execution_count": null,
   "metadata": {
    "id": "BYyfwflLBgqh"
   },
   "outputs": [],
   "source": [
    "import statsmodels.api as sm"
   ]
  },
  {
   "cell_type": "code",
   "execution_count": null,
   "metadata": {
    "colab": {
     "base_uri": "https://localhost:8080/"
    },
    "executionInfo": {
     "elapsed": 330,
     "status": "ok",
     "timestamp": 1709972942251,
     "user": {
      "displayName": "MD. AYNUL HASAN NAHID",
      "userId": "09123225713808729213"
     },
     "user_tz": -360
    },
    "id": "oCFyss7KBnt1",
    "outputId": "ab732da1-f27d-4e28-cfea-22a7702f675b"
   },
   "outputs": [
    {
     "name": "stdout",
     "output_type": "stream",
     "text": [
      "    R&D Spend  Administration  Marketing Spend  State_California  \\\n",
      "0   165349.20       136897.80        471784.10                 0   \n",
      "1   162597.70       151377.59        443898.53                 1   \n",
      "2   153441.51       101145.55        407934.54                 0   \n",
      "3   144372.41       118671.85        383199.62                 0   \n",
      "4   142107.34        91391.77        366168.42                 0   \n",
      "5   131876.90        99814.71        362861.36                 0   \n",
      "6   134615.46       147198.87        127716.82                 1   \n",
      "7   130298.13       145530.06        323876.68                 0   \n",
      "8   120542.52       148718.95        311613.29                 0   \n",
      "9   123334.88       108679.17        304981.62                 1   \n",
      "10  101913.08       110594.11        229160.95                 0   \n",
      "11  100671.96        91790.61        249744.55                 1   \n",
      "12   93863.75       127320.38        249839.44                 0   \n",
      "13   91992.39       135495.07        252664.93                 1   \n",
      "14  119943.24       156547.42        256512.92                 0   \n",
      "15  114523.61       122616.84        261776.23                 0   \n",
      "16   78013.11       121597.55        264346.06                 1   \n",
      "17   94657.16       145077.58        282574.31                 0   \n",
      "18   91749.16       114175.79        294919.57                 0   \n",
      "19   86419.70       153514.11             0.00                 0   \n",
      "20   76253.86       113867.30        298664.47                 1   \n",
      "21   78389.47       153773.43        299737.29                 0   \n",
      "22   73994.56       122782.75        303319.26                 0   \n",
      "23   67532.53       105751.03        304768.73                 0   \n",
      "24   77044.01        99281.34        140574.81                 0   \n",
      "25   64664.71       139553.16        137962.62                 1   \n",
      "26   75328.87       144135.98        134050.07                 0   \n",
      "27   72107.60       127864.55        353183.81                 0   \n",
      "28   66051.52       182645.56        118148.20                 0   \n",
      "29   65605.48       153032.06        107138.38                 0   \n",
      "30   61994.48       115641.28         91131.24                 0   \n",
      "31   61136.38       152701.92         88218.23                 0   \n",
      "32   63408.86       129219.61         46085.25                 1   \n",
      "33   55493.95       103057.49        214634.81                 0   \n",
      "34   46426.07       157693.92        210797.67                 1   \n",
      "35   46014.02        85047.44        205517.64                 0   \n",
      "36   28663.76       127056.21        201126.82                 0   \n",
      "37   44069.95        51283.14        197029.42                 1   \n",
      "38   20229.59        65947.93        185265.10                 0   \n",
      "39   38558.51        82982.09        174999.30                 1   \n",
      "40   28754.33       118546.05        172795.67                 1   \n",
      "41   27892.92        84710.77        164470.71                 0   \n",
      "42   23640.93        96189.63        148001.11                 1   \n",
      "43   15505.73       127382.30         35534.17                 0   \n",
      "44   22177.74       154806.14         28334.72                 1   \n",
      "45    1000.23       124153.04          1903.93                 0   \n",
      "46    1315.46       115816.21        297114.46                 0   \n",
      "47       0.00       135426.92             0.00                 1   \n",
      "48     542.05        51743.15             0.00                 0   \n",
      "49       0.00       116983.80         45173.06                 1   \n",
      "\n",
      "    State_Florida  \n",
      "0               0  \n",
      "1               0  \n",
      "2               1  \n",
      "3               0  \n",
      "4               1  \n",
      "5               0  \n",
      "6               0  \n",
      "7               1  \n",
      "8               0  \n",
      "9               0  \n",
      "10              1  \n",
      "11              0  \n",
      "12              1  \n",
      "13              0  \n",
      "14              1  \n",
      "15              0  \n",
      "16              0  \n",
      "17              0  \n",
      "18              1  \n",
      "19              0  \n",
      "20              0  \n",
      "21              0  \n",
      "22              1  \n",
      "23              1  \n",
      "24              0  \n",
      "25              0  \n",
      "26              1  \n",
      "27              0  \n",
      "28              1  \n",
      "29              0  \n",
      "30              1  \n",
      "31              0  \n",
      "32              0  \n",
      "33              1  \n",
      "34              0  \n",
      "35              0  \n",
      "36              1  \n",
      "37              0  \n",
      "38              0  \n",
      "39              0  \n",
      "40              0  \n",
      "41              1  \n",
      "42              0  \n",
      "43              0  \n",
      "44              0  \n",
      "45              0  \n",
      "46              1  \n",
      "47              0  \n",
      "48              0  \n",
      "49              0  \n"
     ]
    }
   ],
   "source": [
    "X = dataset.iloc[:,:-1]\n",
    "X = pd.get_dummies(X, columns=['State'])\n",
    "X_opt = X.iloc[:,:-1]\n",
    "print(X_opt)"
   ]
  },
  {
   "cell_type": "code",
   "execution_count": null,
   "metadata": {
    "colab": {
     "base_uri": "https://localhost:8080/"
    },
    "executionInfo": {
     "elapsed": 431,
     "status": "ok",
     "timestamp": 1709973042153,
     "user": {
      "displayName": "MD. AYNUL HASAN NAHID",
      "userId": "09123225713808729213"
     },
     "user_tz": -360
    },
    "id": "qBae0FBpExf_",
    "outputId": "605b0c3b-3c8b-43f4-989d-ad0ad89ef1c0"
   },
   "outputs": [
    {
     "name": "stdout",
     "output_type": "stream",
     "text": [
      "0     192261.83\n",
      "1     191792.06\n",
      "2     191050.39\n",
      "3     182901.99\n",
      "4     166187.94\n",
      "5     156991.12\n",
      "6     156122.51\n",
      "7     155752.60\n",
      "8     152211.77\n",
      "9     149759.96\n",
      "10    146121.95\n",
      "11    144259.40\n",
      "12    141585.52\n",
      "13    134307.35\n",
      "14    132602.65\n",
      "15    129917.04\n",
      "16    126992.93\n",
      "17    125370.37\n",
      "18    124266.90\n",
      "19    122776.86\n",
      "20    118474.03\n",
      "21    111313.02\n",
      "22    110352.25\n",
      "23    108733.99\n",
      "24    108552.04\n",
      "25    107404.34\n",
      "26    105733.54\n",
      "27    105008.31\n",
      "28    103282.38\n",
      "29    101004.64\n",
      "30     99937.59\n",
      "31     97483.56\n",
      "32     97427.84\n",
      "33     96778.92\n",
      "34     96712.80\n",
      "35     96479.51\n",
      "36     90708.19\n",
      "37     89949.14\n",
      "38     81229.06\n",
      "39     81005.76\n",
      "40     78239.91\n",
      "41     77798.83\n",
      "42     71498.49\n",
      "43     69758.98\n",
      "44     65200.33\n",
      "45     64926.08\n",
      "46     49490.75\n",
      "47     42559.73\n",
      "48     35673.41\n",
      "49     14681.40\n",
      "Name: Profit, dtype: float64\n"
     ]
    }
   ],
   "source": [
    "y = dataset.iloc[:,-1]\n",
    "print(y)"
   ]
  },
  {
   "cell_type": "code",
   "execution_count": 1,
   "metadata": {
    "colab": {
     "base_uri": "https://localhost:8080/",
     "height": 162
    },
    "executionInfo": {
     "elapsed": 1518,
     "status": "error",
     "timestamp": 1726286714328,
     "user": {
      "displayName": "Shumaiya Akter Shammi",
      "userId": "03077412851634146372"
     },
     "user_tz": -360
    },
    "id": "f_8J9vfF8DI6",
    "outputId": "9ff3cb92-8cf0-4e8c-98b7-a75450bda86f"
   },
   "outputs": [
    {
     "ename": "NameError",
     "evalue": "name 'sm' is not defined",
     "output_type": "error",
     "traceback": [
      "\u001b[0;31m---------------------------------------------------------------------------\u001b[0m",
      "\u001b[0;31mNameError\u001b[0m                                 Traceback (most recent call last)",
      "\u001b[0;32m<ipython-input-1-6276892d4ca2>\u001b[0m in \u001b[0;36m<cell line: 1>\u001b[0;34m()\u001b[0m\n\u001b[0;32m----> 1\u001b[0;31m \u001b[0mX_opt\u001b[0m \u001b[0;34m=\u001b[0m \u001b[0msm\u001b[0m\u001b[0;34m.\u001b[0m\u001b[0madd_constant\u001b[0m\u001b[0;34m(\u001b[0m\u001b[0mX_opt\u001b[0m\u001b[0;34m)\u001b[0m\u001b[0;34m\u001b[0m\u001b[0;34m\u001b[0m\u001b[0m\n\u001b[0m\u001b[1;32m      2\u001b[0m \u001b[0mprint\u001b[0m\u001b[0;34m(\u001b[0m\u001b[0mX_opt\u001b[0m\u001b[0;34m)\u001b[0m\u001b[0;34m\u001b[0m\u001b[0;34m\u001b[0m\u001b[0m\n",
      "\u001b[0;31mNameError\u001b[0m: name 'sm' is not defined"
     ]
    }
   ],
   "source": [
    "X_opt = sm.add_constant(X_opt)\n",
    "print(X_opt)"
   ]
  },
  {
   "cell_type": "code",
   "execution_count": null,
   "metadata": {
    "colab": {
     "base_uri": "https://localhost:8080/"
    },
    "executionInfo": {
     "elapsed": 345,
     "status": "ok",
     "timestamp": 1709973217665,
     "user": {
      "displayName": "MD. AYNUL HASAN NAHID",
      "userId": "09123225713808729213"
     },
     "user_tz": -360
    },
    "id": "dhxspIB0gGZn",
    "outputId": "a8adbadd-abfb-4b2e-9f1b-5b0c5c74f390"
   },
   "outputs": [
    {
     "name": "stdout",
     "output_type": "stream",
     "text": [
      "                            OLS Regression Results                            \n",
      "==============================================================================\n",
      "Dep. Variable:                 Profit   R-squared:                       0.951\n",
      "Model:                            OLS   Adj. R-squared:                  0.945\n",
      "Method:                 Least Squares   F-statistic:                     169.9\n",
      "Date:                Sat, 09 Mar 2024   Prob (F-statistic):           1.34e-27\n",
      "Time:                        08:33:37   Log-Likelihood:                -525.38\n",
      "No. Observations:                  50   AIC:                             1063.\n",
      "Df Residuals:                      44   BIC:                             1074.\n",
      "Df Model:                           5                                         \n",
      "Covariance Type:            nonrobust                                         \n",
      "====================================================================================\n",
      "                       coef    std err          t      P>|t|      [0.025      0.975]\n",
      "------------------------------------------------------------------------------------\n",
      "const             5.008e+04   6952.587      7.204      0.000    3.61e+04    6.41e+04\n",
      "R&D Spend            0.8060      0.046     17.369      0.000       0.712       0.900\n",
      "Administration      -0.0270      0.052     -0.517      0.608      -0.132       0.078\n",
      "Marketing Spend      0.0270      0.017      1.574      0.123      -0.008       0.062\n",
      "State_California    41.8870   3256.039      0.013      0.990   -6520.229    6604.003\n",
      "State_Florida      240.6758   3338.857      0.072      0.943   -6488.349    6969.701\n",
      "==============================================================================\n",
      "Omnibus:                       14.782   Durbin-Watson:                   1.283\n",
      "Prob(Omnibus):                  0.001   Jarque-Bera (JB):               21.266\n",
      "Skew:                          -0.948   Prob(JB):                     2.41e-05\n",
      "Kurtosis:                       5.572   Cond. No.                     1.47e+06\n",
      "==============================================================================\n",
      "\n",
      "Notes:\n",
      "[1] Standard Errors assume that the covariance matrix of the errors is correctly specified.\n",
      "[2] The condition number is large, 1.47e+06. This might indicate that there are\n",
      "strong multicollinearity or other numerical problems.\n"
     ]
    }
   ],
   "source": [
    "regressor_OLS = sm.OLS(y, X_opt).fit()\n",
    "print(regressor_OLS.summary())"
   ]
  },
  {
   "cell_type": "code",
   "execution_count": 2,
   "metadata": {
    "colab": {
     "base_uri": "https://localhost:8080/",
     "height": 162
    },
    "executionInfo": {
     "elapsed": 435,
     "status": "error",
     "timestamp": 1726286728077,
     "user": {
      "displayName": "Shumaiya Akter Shammi",
      "userId": "03077412851634146372"
     },
     "user_tz": -360
    },
    "id": "HDwgAYWSwu5t",
    "outputId": "06c3dcf4-98c3-41e0-f6f6-5622facd0508"
   },
   "outputs": [
    {
     "ename": "NameError",
     "evalue": "name 'X_opt' is not defined",
     "output_type": "error",
     "traceback": [
      "\u001b[0;31m---------------------------------------------------------------------------\u001b[0m",
      "\u001b[0;31mNameError\u001b[0m                                 Traceback (most recent call last)",
      "\u001b[0;32m<ipython-input-2-b4c059b51666>\u001b[0m in \u001b[0;36m<cell line: 1>\u001b[0;34m()\u001b[0m\n\u001b[0;32m----> 1\u001b[0;31m \u001b[0mX_opt\u001b[0m \u001b[0;34m=\u001b[0m \u001b[0mX_opt\u001b[0m\u001b[0;34m.\u001b[0m\u001b[0miloc\u001b[0m\u001b[0;34m[\u001b[0m\u001b[0;34m:\u001b[0m\u001b[0;34m,\u001b[0m\u001b[0;34m[\u001b[0m\u001b[0;36m0\u001b[0m\u001b[0;34m,\u001b[0m\u001b[0;36m1\u001b[0m\u001b[0;34m,\u001b[0m\u001b[0;36m2\u001b[0m\u001b[0;34m,\u001b[0m\u001b[0;36m3\u001b[0m\u001b[0;34m,\u001b[0m\u001b[0;36m5\u001b[0m\u001b[0;34m]\u001b[0m\u001b[0;34m]\u001b[0m\u001b[0;34m\u001b[0m\u001b[0;34m\u001b[0m\u001b[0m\n\u001b[0m\u001b[1;32m      2\u001b[0m \u001b[0mprint\u001b[0m\u001b[0;34m(\u001b[0m\u001b[0mX_opt\u001b[0m\u001b[0;34m)\u001b[0m\u001b[0;34m\u001b[0m\u001b[0;34m\u001b[0m\u001b[0m\n",
      "\u001b[0;31mNameError\u001b[0m: name 'X_opt' is not defined"
     ]
    }
   ],
   "source": [
    "X_opt = X_opt.iloc[:,[0,1,2,3,5]]\n",
    "print(X_opt)"
   ]
  },
  {
   "cell_type": "code",
   "execution_count": null,
   "metadata": {
    "colab": {
     "base_uri": "https://localhost:8080/"
    },
    "executionInfo": {
     "elapsed": 337,
     "status": "ok",
     "timestamp": 1709973519934,
     "user": {
      "displayName": "MD. AYNUL HASAN NAHID",
      "userId": "09123225713808729213"
     },
     "user_tz": -360
    },
    "id": "2bZEyGF4xNBF",
    "outputId": "d36752c3-ed09-467d-df17-5059f072e3bc"
   },
   "outputs": [
    {
     "name": "stdout",
     "output_type": "stream",
     "text": [
      "                            OLS Regression Results                            \n",
      "==============================================================================\n",
      "Dep. Variable:                 Profit   R-squared:                       0.951\n",
      "Model:                            OLS   Adj. R-squared:                  0.946\n",
      "Method:                 Least Squares   F-statistic:                     217.2\n",
      "Date:                Sat, 09 Mar 2024   Prob (F-statistic):           8.49e-29\n",
      "Time:                        08:38:40   Log-Likelihood:                -525.38\n",
      "No. Observations:                  50   AIC:                             1061.\n",
      "Df Residuals:                      45   BIC:                             1070.\n",
      "Df Model:                           4                                         \n",
      "Covariance Type:            nonrobust                                         \n",
      "===================================================================================\n",
      "                      coef    std err          t      P>|t|      [0.025      0.975]\n",
      "-----------------------------------------------------------------------------------\n",
      "const            5.011e+04   6647.870      7.537      0.000    3.67e+04    6.35e+04\n",
      "R&D Spend           0.8060      0.046     17.606      0.000       0.714       0.898\n",
      "Administration     -0.0270      0.052     -0.523      0.604      -0.131       0.077\n",
      "Marketing Spend     0.0270      0.017      1.592      0.118      -0.007       0.061\n",
      "State_Florida     220.1585   2900.536      0.076      0.940   -5621.821    6062.138\n",
      "==============================================================================\n",
      "Omnibus:                       14.758   Durbin-Watson:                   1.282\n",
      "Prob(Omnibus):                  0.001   Jarque-Bera (JB):               21.172\n",
      "Skew:                          -0.948   Prob(JB):                     2.53e-05\n",
      "Kurtosis:                       5.563   Cond. No.                     1.40e+06\n",
      "==============================================================================\n",
      "\n",
      "Notes:\n",
      "[1] Standard Errors assume that the covariance matrix of the errors is correctly specified.\n",
      "[2] The condition number is large, 1.4e+06. This might indicate that there are\n",
      "strong multicollinearity or other numerical problems.\n"
     ]
    }
   ],
   "source": [
    "regressor_OLS = sm.OLS(y, X_opt).fit()\n",
    "print(regressor_OLS.summary())"
   ]
  },
  {
   "cell_type": "code",
   "execution_count": null,
   "metadata": {
    "colab": {
     "base_uri": "https://localhost:8080/"
    },
    "executionInfo": {
     "elapsed": 330,
     "status": "ok",
     "timestamp": 1709973553065,
     "user": {
      "displayName": "MD. AYNUL HASAN NAHID",
      "userId": "09123225713808729213"
     },
     "user_tz": -360
    },
    "id": "nHc3yjld0Ouf",
    "outputId": "c58f6633-dd37-4945-decf-2e0311b8f7b0"
   },
   "outputs": [
    {
     "name": "stdout",
     "output_type": "stream",
     "text": [
      "    const  R&D Spend  Administration  Marketing Spend\n",
      "0     1.0  165349.20       136897.80        471784.10\n",
      "1     1.0  162597.70       151377.59        443898.53\n",
      "2     1.0  153441.51       101145.55        407934.54\n",
      "3     1.0  144372.41       118671.85        383199.62\n",
      "4     1.0  142107.34        91391.77        366168.42\n",
      "5     1.0  131876.90        99814.71        362861.36\n",
      "6     1.0  134615.46       147198.87        127716.82\n",
      "7     1.0  130298.13       145530.06        323876.68\n",
      "8     1.0  120542.52       148718.95        311613.29\n",
      "9     1.0  123334.88       108679.17        304981.62\n",
      "10    1.0  101913.08       110594.11        229160.95\n",
      "11    1.0  100671.96        91790.61        249744.55\n",
      "12    1.0   93863.75       127320.38        249839.44\n",
      "13    1.0   91992.39       135495.07        252664.93\n",
      "14    1.0  119943.24       156547.42        256512.92\n",
      "15    1.0  114523.61       122616.84        261776.23\n",
      "16    1.0   78013.11       121597.55        264346.06\n",
      "17    1.0   94657.16       145077.58        282574.31\n",
      "18    1.0   91749.16       114175.79        294919.57\n",
      "19    1.0   86419.70       153514.11             0.00\n",
      "20    1.0   76253.86       113867.30        298664.47\n",
      "21    1.0   78389.47       153773.43        299737.29\n",
      "22    1.0   73994.56       122782.75        303319.26\n",
      "23    1.0   67532.53       105751.03        304768.73\n",
      "24    1.0   77044.01        99281.34        140574.81\n",
      "25    1.0   64664.71       139553.16        137962.62\n",
      "26    1.0   75328.87       144135.98        134050.07\n",
      "27    1.0   72107.60       127864.55        353183.81\n",
      "28    1.0   66051.52       182645.56        118148.20\n",
      "29    1.0   65605.48       153032.06        107138.38\n",
      "30    1.0   61994.48       115641.28         91131.24\n",
      "31    1.0   61136.38       152701.92         88218.23\n",
      "32    1.0   63408.86       129219.61         46085.25\n",
      "33    1.0   55493.95       103057.49        214634.81\n",
      "34    1.0   46426.07       157693.92        210797.67\n",
      "35    1.0   46014.02        85047.44        205517.64\n",
      "36    1.0   28663.76       127056.21        201126.82\n",
      "37    1.0   44069.95        51283.14        197029.42\n",
      "38    1.0   20229.59        65947.93        185265.10\n",
      "39    1.0   38558.51        82982.09        174999.30\n",
      "40    1.0   28754.33       118546.05        172795.67\n",
      "41    1.0   27892.92        84710.77        164470.71\n",
      "42    1.0   23640.93        96189.63        148001.11\n",
      "43    1.0   15505.73       127382.30         35534.17\n",
      "44    1.0   22177.74       154806.14         28334.72\n",
      "45    1.0    1000.23       124153.04          1903.93\n",
      "46    1.0    1315.46       115816.21        297114.46\n",
      "47    1.0       0.00       135426.92             0.00\n",
      "48    1.0     542.05        51743.15             0.00\n",
      "49    1.0       0.00       116983.80         45173.06\n"
     ]
    }
   ],
   "source": [
    "X_opt = X_opt.iloc[:,[0,1,2,3]]\n",
    "print(X_opt)"
   ]
  },
  {
   "cell_type": "code",
   "execution_count": null,
   "metadata": {
    "colab": {
     "base_uri": "https://localhost:8080/"
    },
    "executionInfo": {
     "elapsed": 348,
     "status": "ok",
     "timestamp": 1709973562747,
     "user": {
      "displayName": "MD. AYNUL HASAN NAHID",
      "userId": "09123225713808729213"
     },
     "user_tz": -360
    },
    "id": "JbuugDIY0U5E",
    "outputId": "c7bf6d8f-e2e8-4f83-b65b-f9185fcad146"
   },
   "outputs": [
    {
     "name": "stdout",
     "output_type": "stream",
     "text": [
      "                            OLS Regression Results                            \n",
      "==============================================================================\n",
      "Dep. Variable:                 Profit   R-squared:                       0.951\n",
      "Model:                            OLS   Adj. R-squared:                  0.948\n",
      "Method:                 Least Squares   F-statistic:                     296.0\n",
      "Date:                Sat, 09 Mar 2024   Prob (F-statistic):           4.53e-30\n",
      "Time:                        08:39:22   Log-Likelihood:                -525.39\n",
      "No. Observations:                  50   AIC:                             1059.\n",
      "Df Residuals:                      46   BIC:                             1066.\n",
      "Df Model:                           3                                         \n",
      "Covariance Type:            nonrobust                                         \n",
      "===================================================================================\n",
      "                      coef    std err          t      P>|t|      [0.025      0.975]\n",
      "-----------------------------------------------------------------------------------\n",
      "const            5.012e+04   6572.353      7.626      0.000    3.69e+04    6.34e+04\n",
      "R&D Spend           0.8057      0.045     17.846      0.000       0.715       0.897\n",
      "Administration     -0.0268      0.051     -0.526      0.602      -0.130       0.076\n",
      "Marketing Spend     0.0272      0.016      1.655      0.105      -0.006       0.060\n",
      "==============================================================================\n",
      "Omnibus:                       14.838   Durbin-Watson:                   1.282\n",
      "Prob(Omnibus):                  0.001   Jarque-Bera (JB):               21.442\n",
      "Skew:                          -0.949   Prob(JB):                     2.21e-05\n",
      "Kurtosis:                       5.586   Cond. No.                     1.40e+06\n",
      "==============================================================================\n",
      "\n",
      "Notes:\n",
      "[1] Standard Errors assume that the covariance matrix of the errors is correctly specified.\n",
      "[2] The condition number is large, 1.4e+06. This might indicate that there are\n",
      "strong multicollinearity or other numerical problems.\n"
     ]
    }
   ],
   "source": [
    "regressor_OLS = sm.OLS(y, X_opt).fit()\n",
    "print(regressor_OLS.summary())"
   ]
  },
  {
   "cell_type": "code",
   "execution_count": null,
   "metadata": {
    "colab": {
     "base_uri": "https://localhost:8080/"
    },
    "executionInfo": {
     "elapsed": 344,
     "status": "ok",
     "timestamp": 1709973585858,
     "user": {
      "displayName": "MD. AYNUL HASAN NAHID",
      "userId": "09123225713808729213"
     },
     "user_tz": -360
    },
    "id": "JtYWZxeX0fFH",
    "outputId": "265e324a-de2b-4cb0-d8bf-5080c7e731b1"
   },
   "outputs": [
    {
     "name": "stdout",
     "output_type": "stream",
     "text": [
      "    const  R&D Spend  Marketing Spend\n",
      "0     1.0  165349.20        471784.10\n",
      "1     1.0  162597.70        443898.53\n",
      "2     1.0  153441.51        407934.54\n",
      "3     1.0  144372.41        383199.62\n",
      "4     1.0  142107.34        366168.42\n",
      "5     1.0  131876.90        362861.36\n",
      "6     1.0  134615.46        127716.82\n",
      "7     1.0  130298.13        323876.68\n",
      "8     1.0  120542.52        311613.29\n",
      "9     1.0  123334.88        304981.62\n",
      "10    1.0  101913.08        229160.95\n",
      "11    1.0  100671.96        249744.55\n",
      "12    1.0   93863.75        249839.44\n",
      "13    1.0   91992.39        252664.93\n",
      "14    1.0  119943.24        256512.92\n",
      "15    1.0  114523.61        261776.23\n",
      "16    1.0   78013.11        264346.06\n",
      "17    1.0   94657.16        282574.31\n",
      "18    1.0   91749.16        294919.57\n",
      "19    1.0   86419.70             0.00\n",
      "20    1.0   76253.86        298664.47\n",
      "21    1.0   78389.47        299737.29\n",
      "22    1.0   73994.56        303319.26\n",
      "23    1.0   67532.53        304768.73\n",
      "24    1.0   77044.01        140574.81\n",
      "25    1.0   64664.71        137962.62\n",
      "26    1.0   75328.87        134050.07\n",
      "27    1.0   72107.60        353183.81\n",
      "28    1.0   66051.52        118148.20\n",
      "29    1.0   65605.48        107138.38\n",
      "30    1.0   61994.48         91131.24\n",
      "31    1.0   61136.38         88218.23\n",
      "32    1.0   63408.86         46085.25\n",
      "33    1.0   55493.95        214634.81\n",
      "34    1.0   46426.07        210797.67\n",
      "35    1.0   46014.02        205517.64\n",
      "36    1.0   28663.76        201126.82\n",
      "37    1.0   44069.95        197029.42\n",
      "38    1.0   20229.59        185265.10\n",
      "39    1.0   38558.51        174999.30\n",
      "40    1.0   28754.33        172795.67\n",
      "41    1.0   27892.92        164470.71\n",
      "42    1.0   23640.93        148001.11\n",
      "43    1.0   15505.73         35534.17\n",
      "44    1.0   22177.74         28334.72\n",
      "45    1.0    1000.23          1903.93\n",
      "46    1.0    1315.46        297114.46\n",
      "47    1.0       0.00             0.00\n",
      "48    1.0     542.05             0.00\n",
      "49    1.0       0.00         45173.06\n"
     ]
    }
   ],
   "source": [
    "X_opt = X_opt.iloc[:,[0,1,3]]\n",
    "print(X_opt)"
   ]
  },
  {
   "cell_type": "code",
   "execution_count": null,
   "metadata": {
    "colab": {
     "base_uri": "https://localhost:8080/"
    },
    "executionInfo": {
     "elapsed": 4,
     "status": "ok",
     "timestamp": 1709973597848,
     "user": {
      "displayName": "MD. AYNUL HASAN NAHID",
      "userId": "09123225713808729213"
     },
     "user_tz": -360
    },
    "id": "f9O7IebW0lAE",
    "outputId": "03cc5524-f4c5-41b4-a604-57a9bd0f4d0d"
   },
   "outputs": [
    {
     "name": "stdout",
     "output_type": "stream",
     "text": [
      "                            OLS Regression Results                            \n",
      "==============================================================================\n",
      "Dep. Variable:                 Profit   R-squared:                       0.950\n",
      "Model:                            OLS   Adj. R-squared:                  0.948\n",
      "Method:                 Least Squares   F-statistic:                     450.8\n",
      "Date:                Sat, 09 Mar 2024   Prob (F-statistic):           2.16e-31\n",
      "Time:                        08:39:57   Log-Likelihood:                -525.54\n",
      "No. Observations:                  50   AIC:                             1057.\n",
      "Df Residuals:                      47   BIC:                             1063.\n",
      "Df Model:                           2                                         \n",
      "Covariance Type:            nonrobust                                         \n",
      "===================================================================================\n",
      "                      coef    std err          t      P>|t|      [0.025      0.975]\n",
      "-----------------------------------------------------------------------------------\n",
      "const            4.698e+04   2689.933     17.464      0.000    4.16e+04    5.24e+04\n",
      "R&D Spend           0.7966      0.041     19.266      0.000       0.713       0.880\n",
      "Marketing Spend     0.0299      0.016      1.927      0.060      -0.001       0.061\n",
      "==============================================================================\n",
      "Omnibus:                       14.677   Durbin-Watson:                   1.257\n",
      "Prob(Omnibus):                  0.001   Jarque-Bera (JB):               21.161\n",
      "Skew:                          -0.939   Prob(JB):                     2.54e-05\n",
      "Kurtosis:                       5.575   Cond. No.                     5.32e+05\n",
      "==============================================================================\n",
      "\n",
      "Notes:\n",
      "[1] Standard Errors assume that the covariance matrix of the errors is correctly specified.\n",
      "[2] The condition number is large, 5.32e+05. This might indicate that there are\n",
      "strong multicollinearity or other numerical problems.\n"
     ]
    }
   ],
   "source": [
    "regressor_OLS = sm.OLS(y, X_opt).fit()\n",
    "print(regressor_OLS.summary())"
   ]
  }
 ],
 "metadata": {
  "colab": {
   "provenance": []
  },
  "kernelspec": {
   "display_name": "Python 3 (ipykernel)",
   "language": "python",
   "name": "python3"
  },
  "language_info": {
   "codemirror_mode": {
    "name": "ipython",
    "version": 3
   },
   "file_extension": ".py",
   "mimetype": "text/x-python",
   "name": "python",
   "nbconvert_exporter": "python",
   "pygments_lexer": "ipython3",
   "version": "3.11.9"
  }
 },
 "nbformat": 4,
 "nbformat_minor": 4
}
